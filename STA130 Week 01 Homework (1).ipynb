{
 "cells": [
  {
   "cell_type": "code",
   "execution_count": null,
   "id": "7ceac9f9",
   "metadata": {},
   "outputs": [],
   "source": [
    "# https://chatgpt.com/share/05999848-23ab-4367-8b58-a7f0b3f23d96"
   ]
  },
  {
   "cell_type": "code",
   "execution_count": null,
   "id": "1cddb402",
   "metadata": {},
   "outputs": [],
   "source": [
    "#\"Pre-lecture\" HW"
   ]
  },
  {
   "cell_type": "code",
   "execution_count": 9,
   "id": "15924eb6",
   "metadata": {},
   "outputs": [
    {
     "data": {
      "text/plain": [
       "survived         0\n",
       "pclass           0\n",
       "sex              0\n",
       "age            177\n",
       "sibsp            0\n",
       "parch            0\n",
       "fare             0\n",
       "embarked         2\n",
       "class            0\n",
       "who              0\n",
       "adult_male       0\n",
       "deck           688\n",
       "embark_town      2\n",
       "alive            0\n",
       "alone            0\n",
       "dtype: int64"
      ]
     },
     "execution_count": 9,
     "metadata": {},
     "output_type": "execute_result"
    }
   ],
   "source": [
    "import pandas as pd\n",
    "url = \"https://raw.githubusercontent.com/mwaskom/seaborn-data/master/titanic.csv\"\n",
    "df = pd.read_csv(url)\n",
    "df.isna().sum()"
   ]
  },
  {
   "cell_type": "code",
   "execution_count": 2,
   "id": "2b0ccd9e",
   "metadata": {},
   "outputs": [
    {
     "data": {
      "text/html": [
       "<div>\n",
       "<style scoped>\n",
       "    .dataframe tbody tr th:only-of-type {\n",
       "        vertical-align: middle;\n",
       "    }\n",
       "\n",
       "    .dataframe tbody tr th {\n",
       "        vertical-align: top;\n",
       "    }\n",
       "\n",
       "    .dataframe thead th {\n",
       "        text-align: right;\n",
       "    }\n",
       "</style>\n",
       "<table border=\"1\" class=\"dataframe\">\n",
       "  <thead>\n",
       "    <tr style=\"text-align: right;\">\n",
       "      <th></th>\n",
       "      <th>survived</th>\n",
       "      <th>pclass</th>\n",
       "      <th>age</th>\n",
       "      <th>sibsp</th>\n",
       "      <th>parch</th>\n",
       "      <th>fare</th>\n",
       "    </tr>\n",
       "  </thead>\n",
       "  <tbody>\n",
       "    <tr>\n",
       "      <th>count</th>\n",
       "      <td>891.000000</td>\n",
       "      <td>891.000000</td>\n",
       "      <td>714.000000</td>\n",
       "      <td>891.000000</td>\n",
       "      <td>891.000000</td>\n",
       "      <td>891.000000</td>\n",
       "    </tr>\n",
       "    <tr>\n",
       "      <th>mean</th>\n",
       "      <td>0.383838</td>\n",
       "      <td>2.308642</td>\n",
       "      <td>29.699118</td>\n",
       "      <td>0.523008</td>\n",
       "      <td>0.381594</td>\n",
       "      <td>32.204208</td>\n",
       "    </tr>\n",
       "    <tr>\n",
       "      <th>std</th>\n",
       "      <td>0.486592</td>\n",
       "      <td>0.836071</td>\n",
       "      <td>14.526497</td>\n",
       "      <td>1.102743</td>\n",
       "      <td>0.806057</td>\n",
       "      <td>49.693429</td>\n",
       "    </tr>\n",
       "    <tr>\n",
       "      <th>min</th>\n",
       "      <td>0.000000</td>\n",
       "      <td>1.000000</td>\n",
       "      <td>0.420000</td>\n",
       "      <td>0.000000</td>\n",
       "      <td>0.000000</td>\n",
       "      <td>0.000000</td>\n",
       "    </tr>\n",
       "    <tr>\n",
       "      <th>25%</th>\n",
       "      <td>0.000000</td>\n",
       "      <td>2.000000</td>\n",
       "      <td>20.125000</td>\n",
       "      <td>0.000000</td>\n",
       "      <td>0.000000</td>\n",
       "      <td>7.910400</td>\n",
       "    </tr>\n",
       "    <tr>\n",
       "      <th>50%</th>\n",
       "      <td>0.000000</td>\n",
       "      <td>3.000000</td>\n",
       "      <td>28.000000</td>\n",
       "      <td>0.000000</td>\n",
       "      <td>0.000000</td>\n",
       "      <td>14.454200</td>\n",
       "    </tr>\n",
       "    <tr>\n",
       "      <th>75%</th>\n",
       "      <td>1.000000</td>\n",
       "      <td>3.000000</td>\n",
       "      <td>38.000000</td>\n",
       "      <td>1.000000</td>\n",
       "      <td>0.000000</td>\n",
       "      <td>31.000000</td>\n",
       "    </tr>\n",
       "    <tr>\n",
       "      <th>max</th>\n",
       "      <td>1.000000</td>\n",
       "      <td>3.000000</td>\n",
       "      <td>80.000000</td>\n",
       "      <td>8.000000</td>\n",
       "      <td>6.000000</td>\n",
       "      <td>512.329200</td>\n",
       "    </tr>\n",
       "  </tbody>\n",
       "</table>\n",
       "</div>"
      ],
      "text/plain": [
       "         survived      pclass         age       sibsp       parch        fare\n",
       "count  891.000000  891.000000  714.000000  891.000000  891.000000  891.000000\n",
       "mean     0.383838    2.308642   29.699118    0.523008    0.381594   32.204208\n",
       "std      0.486592    0.836071   14.526497    1.102743    0.806057   49.693429\n",
       "min      0.000000    1.000000    0.420000    0.000000    0.000000    0.000000\n",
       "25%      0.000000    2.000000   20.125000    0.000000    0.000000    7.910400\n",
       "50%      0.000000    3.000000   28.000000    0.000000    0.000000   14.454200\n",
       "75%      1.000000    3.000000   38.000000    1.000000    0.000000   31.000000\n",
       "max      1.000000    3.000000   80.000000    8.000000    6.000000  512.329200"
      ]
     },
     "execution_count": 2,
     "metadata": {},
     "output_type": "execute_result"
    }
   ],
   "source": [
    "df.describe()"
   ]
  },
  {
   "cell_type": "code",
   "execution_count": 18,
   "id": "641b69e2",
   "metadata": {},
   "outputs": [
    {
     "name": "stdout",
     "output_type": "stream",
     "text": [
      "Number of rows: 891\n",
      "Number of columns: 15\n"
     ]
    }
   ],
   "source": [
    "import pandas as pd\n",
    "\n",
    "# Load the dataset\n",
    "file_path = 'https://raw.githubusercontent.com/mwaskom/seaborn-data/master/titanic.csv'\n",
    "titanic_data = pd.read_csv(file_path)\n",
    "\n",
    "# Get the number of rows and columns\n",
    "num_rows, num_columns = titanic_data.shape\n",
    "\n",
    "# Print the number of rows and columns\n",
    "print(f\"Number of rows: {num_rows}\")\n",
    "print(f\"Number of columns: {num_columns}\")"
   ]
  },
  {
   "cell_type": "code",
   "execution_count": 10,
   "id": "e5b56e3c",
   "metadata": {},
   "outputs": [
    {
     "data": {
      "text/plain": [
       "survived\n",
       "0    549\n",
       "1    342\n",
       "Name: count, dtype: int64"
      ]
     },
     "execution_count": 10,
     "metadata": {},
     "output_type": "execute_result"
    }
   ],
   "source": [
    "df['survived'].value_counts()"
   ]
  },
  {
   "cell_type": "code",
   "execution_count": 7,
   "id": "0d76aaac",
   "metadata": {},
   "outputs": [
    {
     "name": "stdout",
     "output_type": "stream",
     "text": [
      "Numeric Summary:\n",
      "          survived      pclass         age       sibsp       parch        fare\n",
      "count  891.000000  891.000000  714.000000  891.000000  891.000000  891.000000\n",
      "mean     0.383838    2.308642   29.699118    0.523008    0.381594   32.204208\n",
      "std      0.486592    0.836071   14.526497    1.102743    0.806057   49.693429\n",
      "min      0.000000    1.000000    0.420000    0.000000    0.000000    0.000000\n",
      "25%      0.000000    2.000000   20.125000    0.000000    0.000000    7.910400\n",
      "50%      0.000000    3.000000   28.000000    0.000000    0.000000   14.454200\n",
      "75%      1.000000    3.000000   38.000000    1.000000    0.000000   31.000000\n",
      "max      1.000000    3.000000   80.000000    8.000000    6.000000  512.329200\n",
      "\n",
      "Sex Value Counts:\n",
      " sex\n",
      "male      577\n",
      "female    314\n",
      "Name: count, dtype: int64\n",
      "\n",
      "Embarked Value Counts:\n",
      " embarked\n",
      "S    644\n",
      "C    168\n",
      "Q     77\n",
      "Name: count, dtype: int64\n",
      "\n",
      "Missing Data:\n",
      " survived         0\n",
      "pclass           0\n",
      "sex              0\n",
      "age            177\n",
      "sibsp            0\n",
      "parch            0\n",
      "fare             0\n",
      "embarked         2\n",
      "class            0\n",
      "who              0\n",
      "adult_male       0\n",
      "deck           688\n",
      "embark_town      2\n",
      "alive            0\n",
      "alone            0\n",
      "dtype: int64\n"
     ]
    }
   ],
   "source": [
    "# 1. Descriptive statistics for numeric columns\n",
    "numeric_summary = df.describe()\n",
    "\n",
    "# 2. Counts of unique values for categorical columns (example for 'sex' and 'embarked')\n",
    "sex_counts = df['sex'].value_counts()\n",
    "embarked_counts = df['embarked'].value_counts()\n",
    "\n",
    "# 3. Checking for missing values\n",
    "missing_data = df.isnull().sum()\n",
    "\n",
    "# Print the summaries\n",
    "print(\"Numeric Summary:\\n\", numeric_summary)\n",
    "print(\"\\nSex Value Counts:\\n\", sex_counts)\n",
    "print(\"\\nEmbarked Value Counts:\\n\", embarked_counts)\n",
    "print(\"\\nMissing Data:\\n\", missing_data)"
   ]
  },
  {
   "cell_type": "code",
   "execution_count": 12,
   "id": "eea823bf",
   "metadata": {
    "scrolled": true
   },
   "outputs": [
    {
     "data": {
      "text/plain": [
       "pclass\n",
       "3    491\n",
       "1    216\n",
       "2    184\n",
       "Name: count, dtype: int64"
      ]
     },
     "execution_count": 12,
     "metadata": {},
     "output_type": "execute_result"
    }
   ],
   "source": [
    "df['pclass'].value_counts()"
   ]
  },
  {
   "cell_type": "code",
   "execution_count": 13,
   "id": "9f51101b",
   "metadata": {},
   "outputs": [
    {
     "data": {
      "text/plain": [
       "age\n",
       "24.00    30\n",
       "22.00    27\n",
       "18.00    26\n",
       "19.00    25\n",
       "28.00    25\n",
       "         ..\n",
       "36.50     1\n",
       "55.50     1\n",
       "0.92      1\n",
       "23.50     1\n",
       "74.00     1\n",
       "Name: count, Length: 88, dtype: int64"
      ]
     },
     "execution_count": 13,
     "metadata": {},
     "output_type": "execute_result"
    }
   ],
   "source": [
    "df['age'].value_counts()"
   ]
  },
  {
   "cell_type": "code",
   "execution_count": 14,
   "id": "50a6fa67",
   "metadata": {},
   "outputs": [
    {
     "data": {
      "text/plain": [
       "sibsp\n",
       "0    608\n",
       "1    209\n",
       "2     28\n",
       "4     18\n",
       "3     16\n",
       "8      7\n",
       "5      5\n",
       "Name: count, dtype: int64"
      ]
     },
     "execution_count": 14,
     "metadata": {},
     "output_type": "execute_result"
    }
   ],
   "source": [
    "df['sibsp'].value_counts()"
   ]
  },
  {
   "cell_type": "code",
   "execution_count": 15,
   "id": "74de6ced",
   "metadata": {},
   "outputs": [
    {
     "data": {
      "text/plain": [
       "parch\n",
       "0    678\n",
       "1    118\n",
       "2     80\n",
       "5      5\n",
       "3      5\n",
       "4      4\n",
       "6      1\n",
       "Name: count, dtype: int64"
      ]
     },
     "execution_count": 15,
     "metadata": {},
     "output_type": "execute_result"
    }
   ],
   "source": [
    "df['parch'].value_counts()"
   ]
  },
  {
   "cell_type": "code",
   "execution_count": 16,
   "id": "2873b52b",
   "metadata": {},
   "outputs": [
    {
     "data": {
      "text/plain": [
       "fare\n",
       "8.0500     43\n",
       "13.0000    42\n",
       "7.8958     38\n",
       "7.7500     34\n",
       "26.0000    31\n",
       "           ..\n",
       "35.0000     1\n",
       "28.5000     1\n",
       "6.2375      1\n",
       "14.0000     1\n",
       "10.5167     1\n",
       "Name: count, Length: 248, dtype: int64"
      ]
     },
     "execution_count": 16,
     "metadata": {},
     "output_type": "execute_result"
    }
   ],
   "source": [
    "df['fare'].value_counts()"
   ]
  },
  {
   "cell_type": "code",
   "execution_count": 8,
   "id": "267c8fa9",
   "metadata": {},
   "outputs": [
    {
     "data": {
      "text/plain": [
       "(891, 15)"
      ]
     },
     "execution_count": 8,
     "metadata": {},
     "output_type": "execute_result"
    }
   ],
   "source": [
    "df.shape"
   ]
  },
  {
   "cell_type": "code",
   "execution_count": null,
   "id": "1122413a",
   "metadata": {},
   "outputs": [],
   "source": [
    "#question 1: There are 869 missing data points in the entire dataset"
   ]
  },
  {
   "cell_type": "code",
   "execution_count": null,
   "id": "37e27cc9",
   "metadata": {},
   "outputs": [],
   "source": [
    "#question 2: This dataset has 891 rows and 15 columns.\n",
    "\n",
    "#observations: In this dataset, this is every passenger on the Titanic, with details such as their survival status, cabin, age, etc.\n",
    "\n",
    "#Variable：is a variable that describes specific characteristics or information about the passengers, such as their age, gender, fare paid, or whether they survived."
   ]
  },
  {
   "cell_type": "code",
   "execution_count": null,
   "id": "6044b8b2",
   "metadata": {},
   "outputs": [],
   "source": [
    "#question 4:\n",
    "# .shape reports 15 columns because it calculates every column in the dataset, both numeric and categorical.\n",
    "# .describe() reports only 6 columns because, by default, it only summarizes numeric columns.\n",
    "\n",
    "#In count: .shape reports 891 rows, which is the total number of records in the dataset.The \"count\" values in .describe() reflect the non-missing values of each column. For example, the 'age' column has 714 non-null values, which means there are 177 rows with missing data for 'age'."
   ]
  },
  {
   "cell_type": "code",
   "execution_count": null,
   "id": "f08cb025",
   "metadata": {},
   "outputs": [],
   "source": [
    "#question 5:\n",
    "\n",
    "#Attribute：A property is information about an object. It is a ready-made value and does not require any action.\n",
    "\n",
    "##Methods: Need to perform some operation or calculation and then return the result"
   ]
  },
  {
   "cell_type": "code",
   "execution_count": null,
   "id": "2800f7db",
   "metadata": {},
   "outputs": [],
   "source": [
    "#\"Post-lecture\" HW "
   ]
  },
  {
   "cell_type": "code",
   "execution_count": null,
   "id": "050cb50b",
   "metadata": {},
   "outputs": [],
   "source": [
    "#quetions 6: \n",
    "#count reflects how many valid data points are present.\n",
    "\n",
    "#mean is the average value of the column.\n",
    "\n",
    "#std is Measures the spread or dispersion of values relative to the mean.\n",
    "\n",
    "#min is Minimum value in the column.\n",
    "\n",
    "#'25%', '50%', '75%', and 'max': They are: is the value below which 25% of the data points fall; the middle value when the data are sorted from small to large; is the value below which 75% of the data points fall; and the maximum value in the column."
   ]
  },
  {
   "cell_type": "code",
   "execution_count": null,
   "id": "7858a44d",
   "metadata": {},
   "outputs": [],
   "source": [
    "#quetuon 7:\n",
    "\n",
    "#1. I am working with a medical dataset where different rows have missing values for different patients. Some patients may not have certain information filled in. Dropping rows ( df.dropna() ) in this case may be more efficient than missing all the data in the columns.\n",
    "\n",
    "#2. In a sales dataset, if you have a column of \"discount codes\" where 90% of the entries are missing, it would make sense to delete the entire column ( del df['col']) since it provides little useful data for most rows.\n",
    "\n",
    "#3. If I have a column with a lot of missing values and I don't remove them first, using df.dropna() may result in the removal of unnecessary rows. Applying del df['col'] Before df.dropna() can maximize the retention of useful data.\n"
   ]
  },
  {
   "cell_type": "code",
   "execution_count": 21,
   "id": "b72a0831",
   "metadata": {},
   "outputs": [
    {
     "name": "stdout",
     "output_type": "stream",
     "text": [
      "Missing values before cleaning:\n",
      "survived         0\n",
      "pclass           0\n",
      "sex              0\n",
      "age            177\n",
      "sibsp            0\n",
      "parch            0\n",
      "fare             0\n",
      "embarked         2\n",
      "class            0\n",
      "who              0\n",
      "adult_male       0\n",
      "deck           688\n",
      "embark_town      2\n",
      "alive            0\n",
      "alone            0\n",
      "dtype: int64\n",
      "\n",
      "Shape before cleaning: (891, 14)\n",
      "Shape after cleaning: (712, 14)\n",
      "\n",
      "Missing values after cleaning:\n",
      "survived       0\n",
      "pclass         0\n",
      "sex            0\n",
      "age            0\n",
      "sibsp          0\n",
      "parch          0\n",
      "fare           0\n",
      "embarked       0\n",
      "class          0\n",
      "who            0\n",
      "adult_male     0\n",
      "embark_town    0\n",
      "alive          0\n",
      "alone          0\n",
      "dtype: int64\n"
     ]
    }
   ],
   "source": [
    "#4. First, check how much missing data there is. Then use df.dropna() to remove the rows that contain any missing values. Check how much missing data is left and compare the size of the dataset before and after the removal.\n",
    "\n",
    "#Before and After Reports: \n",
    "#Before: You will see how many rows have missing data and the original shape of the dataset.\n",
    "#After: Missing data\n",
    "\n",
    "import pandas as pd\n",
    "\n",
    "url = 'https://raw.githubusercontent.com/mwaskom/seaborn-data/master/titanic.csv'\n",
    "df = pd.read_csv(url)\n",
    "\n",
    "print(\"Missing values before cleaning:\")\n",
    "print(df.isnull().sum())\n",
    "\n",
    "del df['deck']\n",
    "\n",
    "df_cleaned = df.dropna()\n",
    "\n",
    "print(\"\\nShape before cleaning:\", df.shape)\n",
    "print(\"Shape after cleaning:\", df_cleaned.shape)\n",
    "\n",
    "print(\"\\nMissing values after cleaning:\")\n",
    "print(df_cleaned.isnull().sum())\n"
   ]
  },
  {
   "cell_type": "code",
   "execution_count": null,
   "id": "0b15329e",
   "metadata": {},
   "outputs": [],
   "source": [
    "#question 8: \n",
    "\n",
    "#1. https://chatgpt.com/share/0ba5e24c-d3fc-4e23-b335-e1d46f78b078\n",
    "\n",
    "#2. df.describe() gives an overall picture, while df.groupby() provides insights into patterns within specific subgroups.\n",
    "#df.describe() reflects the total number of non-missing values in a single column in the entire dataset.\n",
    "#df.groupby(“col1”)[“col2”].describe() reflects the non-missing values of col2 in each group of col1.\n",
    "\n",
    "#3. NameError: name 'pd' is not defined, FileNotFoundError: [Errno 2] No such file or directory: 'titanics.csv',NameError: name 'DF' is not defined,SyntaxError: unexpected EOF while parsing,AttributeError: 'DataFrame' object has no attribute 'group_by',KeyError: 'Sex',NameError: name 'sex' is not defined\n",
    "#Overall, ChatGPT seems to be better suited for real-time troubleshooting of Python code, especially common and straightforward errors.\n"
   ]
  },
  {
   "cell_type": "code",
   "execution_count": null,
   "id": "8be33c92",
   "metadata": {},
   "outputs": [],
   "source": [
    "#question 9: Somewhat"
   ]
  }
 ],
 "metadata": {
  "kernelspec": {
   "display_name": "Python 3 (ipykernel)",
   "language": "python",
   "name": "python3"
  },
  "language_info": {
   "codemirror_mode": {
    "name": "ipython",
    "version": 3
   },
   "file_extension": ".py",
   "mimetype": "text/x-python",
   "name": "python",
   "nbconvert_exporter": "python",
   "pygments_lexer": "ipython3",
   "version": "3.11.6"
  }
 },
 "nbformat": 4,
 "nbformat_minor": 5
}
